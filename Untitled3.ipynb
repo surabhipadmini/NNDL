{
  "nbformat": 4,
  "nbformat_minor": 0,
  "metadata": {
    "colab": {
      "name": "Untitled3.ipynb",
      "provenance": [],
      "authorship_tag": "ABX9TyNjx5CgIeIaNmEvorEZM0gB",
      "include_colab_link": true
    },
    "kernelspec": {
      "name": "python3",
      "display_name": "Python 3"
    }
  },
  "cells": [
    {
      "cell_type": "markdown",
      "metadata": {
        "id": "view-in-github",
        "colab_type": "text"
      },
      "source": [
        "<a href=\"https://colab.research.google.com/github/surabhipadmini/NNDL1/blob/main/Untitled3.ipynb\" target=\"_parent\"><img src=\"https://colab.research.google.com/assets/colab-badge.svg\" alt=\"Open In Colab\"/></a>"
      ]
    },
    {
      "cell_type": "code",
      "metadata": {
        "colab": {
          "base_uri": "https://localhost:8080/"
        },
        "id": "sokT3SsZCVOR",
        "outputId": "3ff0a638-0e10-4f80-abe6-919c0446a1e8"
      },
      "source": [
        "from sympy import *\r\n",
        "x=symbols('x')\r\n",
        "f=x*4+3*x*2+10\r\n",
        "q=diff(f,x) \r\n",
        "print(q)\r\n",
        "X=int(input(\"enter x value:\"))\r\n",
        "itr=1 \r\n",
        "n=0.1 \r\n",
        "epoch=2\r\n",
        "while (itr <= epoch) :\r\n",
        "   Y=q.subs(x,X)\r\n",
        "   print(\"q\",Y)\r\n",
        "   deltax=-n*Y\r\n",
        "   print(\"delta(x) =\",deltax)\r\n",
        "   newx = X + deltax\r\n",
        "   print(\"x =\",newx)\r\n",
        "   itr= itr + 1\r\n",
        "   X=newx\r\n",
        "print(\"final x =\",X)\r\n",
        "print(\"Minimum value is\",f.subs(x,X))"
      ],
      "execution_count": null,
      "outputs": [
        {
          "output_type": "stream",
          "text": [
            "10\n",
            "enter x value:0\n",
            "q 10\n",
            "delta(x) = -1.00000000000000\n",
            "x = -1.00000000000000\n",
            "q 10\n",
            "delta(x) = -1.00000000000000\n",
            "x = -2.00000000000000\n",
            "final x = -2.00000000000000\n",
            "Minimum value is -10.0000000000000\n"
          ],
          "name": "stdout"
        }
      ]
    }
  ]
}