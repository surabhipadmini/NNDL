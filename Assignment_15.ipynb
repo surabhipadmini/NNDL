{
  "nbformat": 4,
  "nbformat_minor": 0,
  "metadata": {
    "colab": {
      "name": "Assignment 15",
      "provenance": [],
      "authorship_tag": "ABX9TyO70W+eROIaGwjiRnNAEubr",
      "include_colab_link": true
    },
    "kernelspec": {
      "name": "python3",
      "display_name": "Python 3"
    },
    "language_info": {
      "name": "python"
    }
  },
  "cells": [
    {
      "cell_type": "markdown",
      "metadata": {
        "id": "view-in-github",
        "colab_type": "text"
      },
      "source": [
        "<a href=\"https://colab.research.google.com/github/surabhipadmini/NNDL/blob/main/Assignment_15.ipynb\" target=\"_parent\"><img src=\"https://colab.research.google.com/assets/colab-badge.svg\" alt=\"Open In Colab\"/></a>"
      ]
    },
    {
      "cell_type": "code",
      "metadata": {
        "colab": {
          "base_uri": "https://localhost:8080/"
        },
        "id": "wJZG4Wzk9teJ",
        "outputId": "5f271372-d6ce-441b-8012-61726b38f8c7"
      },
      "source": [
        "import pandas as pd\n",
        "from sympy import *\n",
        "d1=[[0.2,3.4],[0.4,3.8],[0.6,4.2],[0.8,4.6]]\n",
        "print(d1)\n",
        "d2=pd.DataFrame(d1,columns=(\"X\",\"Y\"))\n",
        "print(d2)\n",
        "m=1\n",
        "c=-1\n",
        "n=0.1\n",
        "gama=0.9\n",
        "Em=0\n",
        "Ec=0\n",
        "E=10**(-8)\n",
        "epochs=100\n",
        "x=symbols('x')\n",
        "y=symbols('y')\n",
        "l=len(d2)\n",
        "for i in range(epochs):\n",
        "  for j in range(l):\n",
        "    gm=-(y-m*x-c)*x\n",
        "    gc=-(y-m*x-c)\n",
        "    #print(j)\n",
        "    x1=d2.iloc[j,0]\n",
        "    y1=d2.iloc[j,1]\n",
        "    gm1=gm.subs([(x,x1),(y,y1)])\n",
        "    gc1=gc.subs([(x,x1),(y,y1)])\n",
        "    newEm=(gama*Em)+((1-gama)*(gm1**2))\n",
        "    newEc=(gama*Ec)+((1-gama)*(gc1**2))\n",
        "    deltam=((-n)/((newEm+E)**0.5))*gm1\n",
        "    deltac=((-n)/((newEc+E)**0.5))*gc1\n",
        "    newm = m + deltam\n",
        "    newc = c + deltac\n",
        "    Em=newEm\n",
        "    Ec=newEc\n",
        "    m=newm\n",
        "    c=newc\n",
        "    #print(m,c)\n",
        "fm=round(m,2)\n",
        "fc=round(c,2)\n",
        "print(\"final m value=\",fm)\n",
        "print(\"final c value=\",fc)"
      ],
      "execution_count": 1,
      "outputs": [
        {
          "output_type": "stream",
          "text": [
            "[[0.2, 3.4], [0.4, 3.8], [0.6, 4.2], [0.8, 4.6]]\n",
            "     X    Y\n",
            "0  0.2  3.4\n",
            "1  0.4  3.8\n",
            "2  0.6  4.2\n",
            "3  0.8  4.6\n",
            "final m value= 1.86\n",
            "final c value= 3.01\n"
          ],
          "name": "stdout"
        }
      ]
    },
    {
      "cell_type": "code",
      "metadata": {
        "colab": {
          "base_uri": "https://localhost:8080/"
        },
        "id": "YGRtohGv98ch",
        "outputId": "2f091b58-b3d2-4ab4-9edc-dfb014cdaa22"
      },
      "source": [
        "x = list(d2['X'])\n",
        "y = list(d2['Y'])\n",
        "yp = []\n",
        "for i in x:\n",
        "    yp.append(m * i + c)\n",
        "s = 0\n",
        "for i in range(l):\n",
        "    s += (y[i] - yp[i]) ** 2\n",
        "mse = s / l\n",
        "print(f\"mean squared error = {mse}\")"
      ],
      "execution_count": 2,
      "outputs": [
        {
          "output_type": "stream",
          "text": [
            "mean squared error = 0.00424879901633983\n"
          ],
          "name": "stdout"
        }
      ]
    }
  ]
}