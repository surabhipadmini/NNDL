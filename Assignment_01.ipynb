{
  "nbformat": 4,
  "nbformat_minor": 0,
  "metadata": {
    "colab": {
      "name": "Assignment 01",
      "provenance": [],
      "authorship_tag": "ABX9TyNfD4Q33wXEhhQ8oSMN9C7m",
      "include_colab_link": true
    },
    "kernelspec": {
      "name": "python3",
      "display_name": "Python 3"
    },
    "language_info": {
      "name": "python"
    }
  },
  "cells": [
    {
      "cell_type": "markdown",
      "metadata": {
        "id": "view-in-github",
        "colab_type": "text"
      },
      "source": [
        "<a href=\"https://colab.research.google.com/github/surabhipadmini/NNDL/blob/main/Assignment_01.ipynb\" target=\"_parent\"><img src=\"https://colab.research.google.com/assets/colab-badge.svg\" alt=\"Open In Colab\"/></a>"
      ]
    },
    {
      "cell_type": "code",
      "metadata": {
        "colab": {
          "base_uri": "https://localhost:8080/"
        },
        "id": "XHgBOM41Lm7l",
        "outputId": "d94b9a8c-db2a-4275-fbd9-5db73fd12bf4"
      },
      "source": [
        "from sympy import *\n",
        "x=symbols('x')\n",
        "f=x*4+3*x*2+10\n",
        "y=diff(f,x) \n",
        "print(y)\n",
        "X=int(input(\"enter x value:\"))\n",
        "itr=1 \n",
        "n=0.1 \n",
        "epoch=2\n",
        "while (itr <= epoch) :\n",
        "   Y=y.subs(x,X)\n",
        "   print(\"y\",Y)\n",
        "   deltax=-n*Y\n",
        "   print(\"delta(x) =\",deltax)\n",
        "   newx = X + deltax\n",
        "   print(\"x =\",newx)\n",
        "   itr= itr + 1\n",
        "   X=newx\n",
        "print(\"final x =\",X)\n",
        "print(\"Minimum value is\",f.subs(x,X))"
      ],
      "execution_count": 1,
      "outputs": [
        {
          "output_type": "stream",
          "text": [
            "10\n",
            "enter x value:0\n",
            "y 10\n",
            "delta(x) = -1.00000000000000\n",
            "x = -1.00000000000000\n",
            "y 10\n",
            "delta(x) = -1.00000000000000\n",
            "x = -2.00000000000000\n",
            "final x = -2.00000000000000\n",
            "Minimum value is -10.0000000000000\n"
          ],
          "name": "stdout"
        }
      ]
    }
  ]
}